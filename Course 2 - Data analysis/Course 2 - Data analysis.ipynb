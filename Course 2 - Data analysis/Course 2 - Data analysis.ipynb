{
 "cells": [
  {
   "attachments": {
    "UCLouvain_Logo_Pos_CMJN.png": {
     "image/png": "[encoded data removed]"
    }
   },
   "cell_type": "markdown",
   "id": "541b3d3e",
   "metadata": {},
   "source": [
    "# Introduction to Python for quantitative finance.\n",
    "\n",
    "\n",
    "![UCLouvain_Logo_Pos_CMJN.png](attachment:UCLouvain_Logo_Pos_CMJN.png)\n",
    "\n",
    "\n",
    "\n",
    "*Author* : Ubeydullah Ozcan, Actuarial consultant at EY (ozcanubey@outlook.com or ubeydullah.ozcan@be.ey.com)"
   ]
  },
  {
   "cell_type": "markdown",
   "id": "195058c8",
   "metadata": {},
   "source": [
    "# Course 2 - Data analysis, optimization (intro) and visulization\n",
    "\n",
    "During this second course, the focus will be on analysis how to analyze a financial dataset like a evolution of a stock through time. Some metrics will be calculated like mean, variance, return, covariance matrix etc ...\n",
    "\n",
    "An introduction to data visualization will be given using **matplotlib** packages in order to create great visual."
   ]
  },
  {
   "cell_type": "markdown",
   "id": "261ee32f",
   "metadata": {},
   "source": [
    "## 2.1 Import data\n",
    "Let's start be importing a financial dataset from a web browser and multiple stocks.\n",
    "Imagine that we want to analyze a portfolio of 4 stocks which are **ceva**, **yahoo**, **tesla** and **zom** for the entire 2020 year. Let's start by import them all.\n",
    "\n",
    "We need 3 packages to import :"
   ]
  },
  {
   "cell_type": "code",
   "execution_count": 81,
   "id": "502058f1",
   "metadata": {},
   "outputs": [],
   "source": [
    "import pandas_datareader.data as web\n",
    "import datetime\n",
    "import pandas as pd\n",
    "import numpy as np\n",
    "import math\n",
    "import matplotlib.pyplot as plt\n",
    "from scipy import stats\n",
    "from scipy.stats import norm"
   ]
  },
  {
   "cell_type": "markdown",
   "id": "29af282c",
   "metadata": {},
   "source": [
    "Let's define the starting date and ending date"
   ]
  },
  {
   "cell_type": "code",
   "execution_count": 2,
   "id": "a58bc1e8",
   "metadata": {},
   "outputs": [],
   "source": [
    "start = datetime.datetime(2020,1,1)\n",
    "end = datetime.datetime(2020,12,31)\n",
    "stocks = ['CEVA', 'GOOGL', 'TSLA', 'ZOM']"
   ]
  },
  {
   "cell_type": "markdown",
   "id": "10efc01b",
   "metadata": {},
   "source": [
    "In order to work properly, let's start by creating a function which will import all closing price of all stocks that we want and for a period that we define :"
   ]
  },
  {
   "cell_type": "code",
   "execution_count": 3,
   "id": "289ff087",
   "metadata": {},
   "outputs": [],
   "source": [
    "def ImportData(name, start, end):\n",
    "    n = len(name)\n",
    "    ptf = pd.DataFrame()\n",
    "    for i in range(n):\n",
    "        tmp = pd.DataFrame(web.DataReader(name[i],'yahoo', start, end)[\"Close\"])\n",
    "        ptf = pd.concat([ptf, tmp], axis = 1)\n",
    "    ptf.columns = name\n",
    "    return(ptf)"
   ]
  },
  {
   "cell_type": "code",
   "execution_count": 4,
   "id": "7dcc3d7b",
   "metadata": {},
   "outputs": [],
   "source": [
    "Ptf = ImportData(stocks, start, end)"
   ]
  },
  {
   "cell_type": "code",
   "execution_count": 5,
   "id": "6ec5b950",
   "metadata": {},
   "outputs": [
    {
     "data": {
      "text/html": [
       "<div>\n",
       "<style scoped>\n",
       "    .dataframe tbody tr th:only-of-type {\n",
       "        vertical-align: middle;\n",
       "    }\n",
       "\n",
       "    .dataframe tbody tr th {\n",
       "        vertical-align: top;\n",
       "    }\n",
       "\n",
       "    .dataframe thead th {\n",
       "        text-align: right;\n",
       "    }\n",
       "</style>\n",
       "<table border=\"1\" class=\"dataframe\">\n",
       "  <thead>\n",
       "    <tr style=\"text-align: right;\">\n",
       "      <th></th>\n",
       "      <th>CEVA</th>\n",
       "      <th>GOOGL</th>\n",
       "      <th>TSLA</th>\n",
       "      <th>ZOM</th>\n",
       "    </tr>\n",
       "    <tr>\n",
       "      <th>Date</th>\n",
       "      <th></th>\n",
       "      <th></th>\n",
       "      <th></th>\n",
       "      <th></th>\n",
       "    </tr>\n",
       "  </thead>\n",
       "  <tbody>\n",
       "    <tr>\n",
       "      <th>2020-01-02</th>\n",
       "      <td>27.830000</td>\n",
       "      <td>1368.680054</td>\n",
       "      <td>86.052002</td>\n",
       "      <td>0.331</td>\n",
       "    </tr>\n",
       "    <tr>\n",
       "      <th>2020-01-03</th>\n",
       "      <td>27.260000</td>\n",
       "      <td>1361.520020</td>\n",
       "      <td>88.601997</td>\n",
       "      <td>0.332</td>\n",
       "    </tr>\n",
       "    <tr>\n",
       "      <th>2020-01-06</th>\n",
       "      <td>27.180000</td>\n",
       "      <td>1397.810059</td>\n",
       "      <td>90.307999</td>\n",
       "      <td>0.313</td>\n",
       "    </tr>\n",
       "    <tr>\n",
       "      <th>2020-01-07</th>\n",
       "      <td>27.320000</td>\n",
       "      <td>1395.109985</td>\n",
       "      <td>93.811996</td>\n",
       "      <td>0.313</td>\n",
       "    </tr>\n",
       "    <tr>\n",
       "      <th>2020-01-08</th>\n",
       "      <td>27.379999</td>\n",
       "      <td>1405.040039</td>\n",
       "      <td>98.428001</td>\n",
       "      <td>0.320</td>\n",
       "    </tr>\n",
       "    <tr>\n",
       "      <th>...</th>\n",
       "      <td>...</td>\n",
       "      <td>...</td>\n",
       "      <td>...</td>\n",
       "      <td>...</td>\n",
       "    </tr>\n",
       "    <tr>\n",
       "      <th>2020-12-24</th>\n",
       "      <td>42.209999</td>\n",
       "      <td>1734.160034</td>\n",
       "      <td>661.770020</td>\n",
       "      <td>0.229</td>\n",
       "    </tr>\n",
       "    <tr>\n",
       "      <th>2020-12-28</th>\n",
       "      <td>42.919998</td>\n",
       "      <td>1773.959961</td>\n",
       "      <td>663.690002</td>\n",
       "      <td>0.251</td>\n",
       "    </tr>\n",
       "    <tr>\n",
       "      <th>2020-12-29</th>\n",
       "      <td>41.459999</td>\n",
       "      <td>1757.760010</td>\n",
       "      <td>665.989990</td>\n",
       "      <td>0.243</td>\n",
       "    </tr>\n",
       "    <tr>\n",
       "      <th>2020-12-30</th>\n",
       "      <td>43.919998</td>\n",
       "      <td>1736.250000</td>\n",
       "      <td>694.780029</td>\n",
       "      <td>0.230</td>\n",
       "    </tr>\n",
       "    <tr>\n",
       "      <th>2020-12-31</th>\n",
       "      <td>45.500000</td>\n",
       "      <td>1752.640015</td>\n",
       "      <td>705.669983</td>\n",
       "      <td>0.231</td>\n",
       "    </tr>\n",
       "  </tbody>\n",
       "</table>\n",
       "<p>253 rows × 4 columns</p>\n",
       "</div>"
      ],
      "text/plain": [
       "                 CEVA        GOOGL        TSLA    ZOM\n",
       "Date                                                 \n",
       "2020-01-02  27.830000  1368.680054   86.052002  0.331\n",
       "2020-01-03  27.260000  1361.520020   88.601997  0.332\n",
       "2020-01-06  27.180000  1397.810059   90.307999  0.313\n",
       "2020-01-07  27.320000  1395.109985   93.811996  0.313\n",
       "2020-01-08  27.379999  1405.040039   98.428001  0.320\n",
       "...               ...          ...         ...    ...\n",
       "2020-12-24  42.209999  1734.160034  661.770020  0.229\n",
       "2020-12-28  42.919998  1773.959961  663.690002  0.251\n",
       "2020-12-29  41.459999  1757.760010  665.989990  0.243\n",
       "2020-12-30  43.919998  1736.250000  694.780029  0.230\n",
       "2020-12-31  45.500000  1752.640015  705.669983  0.231\n",
       "\n",
       "[253 rows x 4 columns]"
      ]
     },
     "execution_count": 5,
     "metadata": {},
     "output_type": "execute_result"
    }
   ],
   "source": [
    "Ptf"
   ]
  },
  {
   "cell_type": "markdown",
   "id": "58f8a810",
   "metadata": {},
   "source": [
    "Now we have our portfolio, let's start with the data analysis part."
   ]
  },
  {
   "cell_type": "markdown",
   "id": "2911bf8a",
   "metadata": {},
   "source": [
    "## 2.2 Data Analysis\n",
    "\n",
    "Let's start by calculating some easy metrics like the average and the variance of the stocks price"
   ]
  },
  {
   "cell_type": "markdown",
   "id": "8f52a598",
   "metadata": {},
   "source": [
    "## 2.2.1 Price analysis and plots\n",
    "Here is an introduction. For more information, I advice you to have a look on this website :\n",
    "https://matplotlib.org/stable/index.html"
   ]
  },
  {
   "cell_type": "code",
   "execution_count": 6,
   "id": "cf976e76",
   "metadata": {},
   "outputs": [
    {
     "data": {
      "text/plain": [
       "35.19517780952303"
      ]
     },
     "execution_count": 6,
     "metadata": {},
     "output_type": "execute_result"
    }
   ],
   "source": [
    "np.mean(Ptf[\"CEVA\"])"
   ]
  },
  {
   "cell_type": "code",
   "execution_count": 7,
   "id": "eec37502",
   "metadata": {},
   "outputs": [
    {
     "data": {
      "text/plain": [
       "6.115460074225569"
      ]
     },
     "execution_count": 7,
     "metadata": {},
     "output_type": "execute_result"
    }
   ],
   "source": [
    "math.sqrt(np.var(Ptf[\"CEVA\"]))"
   ]
  },
  {
   "cell_type": "code",
   "execution_count": 8,
   "id": "d791642c",
   "metadata": {},
   "outputs": [
    {
     "data": {
      "image/png": "[encoded data removed]",
      "text/plain": [
       "<Figure size 432x288 with 1 Axes>"
      ]
     },
     "metadata": {
      "needs_background": "light"
     },
     "output_type": "display_data"
    }
   ],
   "source": [
    "x = Ptf.index.values\n",
    "y = Ptf[\"CEVA\"]\n",
    "\n",
    "fig, ax = plt.subplots()\n",
    "ax.plot(x, y)\n",
    "\n",
    "ax.set(xlabel='time (day)', ylabel='Stock price',\n",
    "       title='Evolution of CEVA stock price for 2020')\n",
    "ax.grid()\n",
    "\n",
    "plt.show()"
   ]
  },
  {
   "cell_type": "code",
   "execution_count": 29,
   "id": "74009334",
   "metadata": {},
   "outputs": [
    {
     "data": {
      "image/png": "[encoded data removed]",
      "text/plain": [
       "<Figure size 432x288 with 2 Axes>"
      ]
     },
     "metadata": {
      "needs_background": "light"
     },
     "output_type": "display_data"
    }
   ],
   "source": [
    "x = Ptf.index.values\n",
    "\n",
    "y1 = Ptf[\"GOOGL\"]\n",
    "y2 = Ptf[\"TSLA\"]\n",
    "\n",
    "fig, (ax1, ax2) = plt.subplots(2, 1, sharex=True)\n",
    "fig.suptitle('A tale of 2 subplots')\n",
    "\n",
    "ax1.plot(x, y1)\n",
    "ax1.set_ylabel('GOOGL')\n",
    "\n",
    "\n",
    "ax2.plot(x, y2)\n",
    "ax2.set_xlabel('time (day)')\n",
    "ax2.set_ylabel('TSLQ')\n",
    "\n",
    "ax1.grid()\n",
    "ax2.grid()\n",
    "\n",
    "\n",
    "plt.show()"
   ]
  },
  {
   "cell_type": "markdown",
   "id": "c320804b",
   "metadata": {},
   "source": [
    "### 2.2.2 Calculation of return, log-return, fit distribution and plots\n",
    "$$ r_t = \\frac{p_t}{p_{t-1}} $$"
   ]
  },
  {
   "cell_type": "markdown",
   "id": "bbdd6cda",
   "metadata": {},
   "source": [
    "$$ ln(r_t) = ln\\left(\\frac{p_t}{p_{t-1}}\\right) $$"
   ]
  },
  {
   "cell_type": "code",
   "execution_count": 45,
   "id": "abf8f31c",
   "metadata": {},
   "outputs": [
    {
     "data": {
      "text/html": [
       "<div>\n",
       "<style scoped>\n",
       "    .dataframe tbody tr th:only-of-type {\n",
       "        vertical-align: middle;\n",
       "    }\n",
       "\n",
       "    .dataframe tbody tr th {\n",
       "        vertical-align: top;\n",
       "    }\n",
       "\n",
       "    .dataframe thead th {\n",
       "        text-align: right;\n",
       "    }\n",
       "</style>\n",
       "<table border=\"1\" class=\"dataframe\">\n",
       "  <thead>\n",
       "    <tr style=\"text-align: right;\">\n",
       "      <th></th>\n",
       "      <th>CEVA</th>\n",
       "      <th>GOOGL</th>\n",
       "      <th>TSLA</th>\n",
       "      <th>ZOM</th>\n",
       "    </tr>\n",
       "    <tr>\n",
       "      <th>Date</th>\n",
       "      <th></th>\n",
       "      <th></th>\n",
       "      <th></th>\n",
       "      <th></th>\n",
       "    </tr>\n",
       "  </thead>\n",
       "  <tbody>\n",
       "    <tr>\n",
       "      <th>2020-01-03</th>\n",
       "      <td>0.979519</td>\n",
       "      <td>0.994769</td>\n",
       "      <td>1.029633</td>\n",
       "      <td>1.003021</td>\n",
       "    </tr>\n",
       "    <tr>\n",
       "      <th>2020-01-06</th>\n",
       "      <td>0.997065</td>\n",
       "      <td>1.026654</td>\n",
       "      <td>1.019255</td>\n",
       "      <td>0.942771</td>\n",
       "    </tr>\n",
       "    <tr>\n",
       "      <th>2020-01-07</th>\n",
       "      <td>1.005151</td>\n",
       "      <td>0.998068</td>\n",
       "      <td>1.038801</td>\n",
       "      <td>1.000000</td>\n",
       "    </tr>\n",
       "    <tr>\n",
       "      <th>2020-01-08</th>\n",
       "      <td>1.002196</td>\n",
       "      <td>1.007118</td>\n",
       "      <td>1.049205</td>\n",
       "      <td>1.022364</td>\n",
       "    </tr>\n",
       "    <tr>\n",
       "      <th>2020-01-09</th>\n",
       "      <td>1.008766</td>\n",
       "      <td>1.010498</td>\n",
       "      <td>0.978055</td>\n",
       "      <td>1.000000</td>\n",
       "    </tr>\n",
       "    <tr>\n",
       "      <th>...</th>\n",
       "      <td>...</td>\n",
       "      <td>...</td>\n",
       "      <td>...</td>\n",
       "      <td>...</td>\n",
       "    </tr>\n",
       "    <tr>\n",
       "      <th>2020-12-24</th>\n",
       "      <td>1.036846</td>\n",
       "      <td>1.003431</td>\n",
       "      <td>1.024444</td>\n",
       "      <td>1.013274</td>\n",
       "    </tr>\n",
       "    <tr>\n",
       "      <th>2020-12-28</th>\n",
       "      <td>1.016821</td>\n",
       "      <td>1.022951</td>\n",
       "      <td>1.002901</td>\n",
       "      <td>1.096070</td>\n",
       "    </tr>\n",
       "    <tr>\n",
       "      <th>2020-12-29</th>\n",
       "      <td>0.965983</td>\n",
       "      <td>0.990868</td>\n",
       "      <td>1.003465</td>\n",
       "      <td>0.968128</td>\n",
       "    </tr>\n",
       "    <tr>\n",
       "      <th>2020-12-30</th>\n",
       "      <td>1.059334</td>\n",
       "      <td>0.987763</td>\n",
       "      <td>1.043229</td>\n",
       "      <td>0.946502</td>\n",
       "    </tr>\n",
       "    <tr>\n",
       "      <th>2020-12-31</th>\n",
       "      <td>1.035975</td>\n",
       "      <td>1.009440</td>\n",
       "      <td>1.015674</td>\n",
       "      <td>1.004348</td>\n",
       "    </tr>\n",
       "  </tbody>\n",
       "</table>\n",
       "<p>252 rows × 4 columns</p>\n",
       "</div>"
      ],
      "text/plain": [
       "                CEVA     GOOGL      TSLA       ZOM\n",
       "Date                                              \n",
       "2020-01-03  0.979519  0.994769  1.029633  1.003021\n",
       "2020-01-06  0.997065  1.026654  1.019255  0.942771\n",
       "2020-01-07  1.005151  0.998068  1.038801  1.000000\n",
       "2020-01-08  1.002196  1.007118  1.049205  1.022364\n",
       "2020-01-09  1.008766  1.010498  0.978055  1.000000\n",
       "...              ...       ...       ...       ...\n",
       "2020-12-24  1.036846  1.003431  1.024444  1.013274\n",
       "2020-12-28  1.016821  1.022951  1.002901  1.096070\n",
       "2020-12-29  0.965983  0.990868  1.003465  0.968128\n",
       "2020-12-30  1.059334  0.987763  1.043229  0.946502\n",
       "2020-12-31  1.035975  1.009440  1.015674  1.004348\n",
       "\n",
       "[252 rows x 4 columns]"
      ]
     },
     "execution_count": 45,
     "metadata": {},
     "output_type": "execute_result"
    }
   ],
   "source": [
    "returns = Ptf/Ptf.shift(1)\n",
    "returns = returns.dropna()"
   ]
  },
  {
   "cell_type": "code",
   "execution_count": 63,
   "id": "c30409ed",
   "metadata": {},
   "outputs": [
    {
     "data": {
      "text/html": [
       "<div>\n",
       "<style scoped>\n",
       "    .dataframe tbody tr th:only-of-type {\n",
       "        vertical-align: middle;\n",
       "    }\n",
       "\n",
       "    .dataframe tbody tr th {\n",
       "        vertical-align: top;\n",
       "    }\n",
       "\n",
       "    .dataframe thead th {\n",
       "        text-align: right;\n",
       "    }\n",
       "</style>\n",
       "<table border=\"1\" class=\"dataframe\">\n",
       "  <thead>\n",
       "    <tr style=\"text-align: right;\">\n",
       "      <th></th>\n",
       "      <th>CEVA</th>\n",
       "      <th>GOOGL</th>\n",
       "      <th>TSLA</th>\n",
       "      <th>ZOM</th>\n",
       "    </tr>\n",
       "    <tr>\n",
       "      <th>Date</th>\n",
       "      <th></th>\n",
       "      <th></th>\n",
       "      <th></th>\n",
       "      <th></th>\n",
       "    </tr>\n",
       "  </thead>\n",
       "  <tbody>\n",
       "    <tr>\n",
       "      <th>2020-01-03</th>\n",
       "      <td>-0.020694</td>\n",
       "      <td>-0.005245</td>\n",
       "      <td>0.029203</td>\n",
       "      <td>0.003017</td>\n",
       "    </tr>\n",
       "    <tr>\n",
       "      <th>2020-01-06</th>\n",
       "      <td>-0.002939</td>\n",
       "      <td>0.026305</td>\n",
       "      <td>0.019072</td>\n",
       "      <td>-0.058932</td>\n",
       "    </tr>\n",
       "    <tr>\n",
       "      <th>2020-01-07</th>\n",
       "      <td>0.005138</td>\n",
       "      <td>-0.001934</td>\n",
       "      <td>0.038067</td>\n",
       "      <td>0.000000</td>\n",
       "    </tr>\n",
       "    <tr>\n",
       "      <th>2020-01-08</th>\n",
       "      <td>0.002194</td>\n",
       "      <td>0.007093</td>\n",
       "      <td>0.048033</td>\n",
       "      <td>0.022118</td>\n",
       "    </tr>\n",
       "    <tr>\n",
       "      <th>2020-01-09</th>\n",
       "      <td>0.008727</td>\n",
       "      <td>0.010443</td>\n",
       "      <td>-0.022189</td>\n",
       "      <td>0.000000</td>\n",
       "    </tr>\n",
       "    <tr>\n",
       "      <th>...</th>\n",
       "      <td>...</td>\n",
       "      <td>...</td>\n",
       "      <td>...</td>\n",
       "      <td>...</td>\n",
       "    </tr>\n",
       "    <tr>\n",
       "      <th>2020-12-24</th>\n",
       "      <td>0.036183</td>\n",
       "      <td>0.003425</td>\n",
       "      <td>0.024150</td>\n",
       "      <td>0.013187</td>\n",
       "    </tr>\n",
       "    <tr>\n",
       "      <th>2020-12-28</th>\n",
       "      <td>0.016681</td>\n",
       "      <td>0.022691</td>\n",
       "      <td>0.002897</td>\n",
       "      <td>0.091731</td>\n",
       "    </tr>\n",
       "    <tr>\n",
       "      <th>2020-12-29</th>\n",
       "      <td>-0.034609</td>\n",
       "      <td>-0.009174</td>\n",
       "      <td>0.003459</td>\n",
       "      <td>-0.032391</td>\n",
       "    </tr>\n",
       "    <tr>\n",
       "      <th>2020-12-30</th>\n",
       "      <td>0.057641</td>\n",
       "      <td>-0.012313</td>\n",
       "      <td>0.042321</td>\n",
       "      <td>-0.054982</td>\n",
       "    </tr>\n",
       "    <tr>\n",
       "      <th>2020-12-31</th>\n",
       "      <td>0.035343</td>\n",
       "      <td>0.009396</td>\n",
       "      <td>0.015552</td>\n",
       "      <td>0.004338</td>\n",
       "    </tr>\n",
       "  </tbody>\n",
       "</table>\n",
       "<p>252 rows × 4 columns</p>\n",
       "</div>"
      ],
      "text/plain": [
       "                CEVA     GOOGL      TSLA       ZOM\n",
       "Date                                              \n",
       "2020-01-03 -0.020694 -0.005245  0.029203  0.003017\n",
       "2020-01-06 -0.002939  0.026305  0.019072 -0.058932\n",
       "2020-01-07  0.005138 -0.001934  0.038067  0.000000\n",
       "2020-01-08  0.002194  0.007093  0.048033  0.022118\n",
       "2020-01-09  0.008727  0.010443 -0.022189  0.000000\n",
       "...              ...       ...       ...       ...\n",
       "2020-12-24  0.036183  0.003425  0.024150  0.013187\n",
       "2020-12-28  0.016681  0.022691  0.002897  0.091731\n",
       "2020-12-29 -0.034609 -0.009174  0.003459 -0.032391\n",
       "2020-12-30  0.057641 -0.012313  0.042321 -0.054982\n",
       "2020-12-31  0.035343  0.009396  0.015552  0.004338\n",
       "\n",
       "[252 rows x 4 columns]"
      ]
     },
     "execution_count": 63,
     "metadata": {},
     "output_type": "execute_result"
    }
   ],
   "source": [
    "l_returns = np.log(returns)\n",
    "l_returns"
   ]
  },
  {
   "cell_type": "code",
   "execution_count": 65,
   "id": "880b9937",
   "metadata": {},
   "outputs": [
    {
     "data": {
      "text/plain": [
       "CEVA     0.001951\n",
       "GOOGL    0.000981\n",
       "TSLA     0.008350\n",
       "ZOM     -0.001427\n",
       "dtype: float64"
      ]
     },
     "execution_count": 65,
     "metadata": {},
     "output_type": "execute_result"
    }
   ],
   "source": [
    "np.mean(l_returns)"
   ]
  },
  {
   "cell_type": "code",
   "execution_count": 71,
   "id": "59453c9d",
   "metadata": {},
   "outputs": [
    {
     "data": {
      "text/plain": [
       "CEVA     0.036329\n",
       "GOOGL    0.024282\n",
       "TSLA     0.056377\n",
       "ZOM      0.104120\n",
       "dtype: float64"
      ]
     },
     "execution_count": 71,
     "metadata": {},
     "output_type": "execute_result"
    }
   ],
   "source": [
    "np.std(l_returns)"
   ]
  },
  {
   "cell_type": "code",
   "execution_count": 55,
   "id": "56cab2af",
   "metadata": {},
   "outputs": [
    {
     "data": {
      "text/plain": [
       "array([[0.00132505, 0.00057507, 0.00082867, 0.00045991],\n",
       "       [0.00057507, 0.00059199, 0.00063644, 0.00015525],\n",
       "       [0.00082867, 0.00063644, 0.00319101, 0.00050589],\n",
       "       [0.00045991, 0.00015525, 0.00050589, 0.01088418]])"
      ]
     },
     "execution_count": 55,
     "metadata": {},
     "output_type": "execute_result"
    }
   ],
   "source": [
    "np.cov(l_returns, rowvar = False)"
   ]
  },
  {
   "cell_type": "code",
   "execution_count": 92,
   "id": "e79d7eaa",
   "metadata": {},
   "outputs": [
    {
     "data": {
      "image/png": "[encoded data removed]",
      "text/plain": [
       "<Figure size 432x288 with 2 Axes>"
      ]
     },
     "metadata": {
      "needs_background": "light"
     },
     "output_type": "display_data"
    }
   ],
   "source": [
    "x = returns.index.values\n",
    "y1 = returns[\"CEVA\"]\n",
    "y2 = l_returns[\"CEVA\"]\n",
    "\n",
    "fig, (ax1, ax2) = plt.subplots(2, 1, sharex=True)\n",
    "fig.suptitle('Return and log-return of CEVA')\n",
    "\n",
    "ax1.plot(x, y1)\n",
    "ax1.set_ylabel('Return')\n",
    "\n",
    "\n",
    "ax2.plot(x, y2)\n",
    "ax2.set_xlabel('time (day)')\n",
    "ax2.set_ylabel('log-return')\n",
    "\n",
    "ax1.grid()\n",
    "ax2.grid()\n",
    "\n",
    "\n",
    "plt.show()"
   ]
  },
  {
   "cell_type": "code",
   "execution_count": 72,
   "id": "6044fade",
   "metadata": {},
   "outputs": [
    {
     "name": "stdout",
     "output_type": "stream",
     "text": [
      "(0.0019507847347640182, 0.03632890894106274)\n"
     ]
    }
   ],
   "source": [
    "dist = getattr(stats, 'norm')\n",
    "parameters = dist.fit(l_returns['CEVA'])\n",
    "print(parameters)"
   ]
  },
  {
   "cell_type": "code",
   "execution_count": 75,
   "id": "ec099fd7",
   "metadata": {},
   "outputs": [],
   "source": [
    "m = parameters[0]\n",
    "std = parameters[1]"
   ]
  },
  {
   "cell_type": "code",
   "execution_count": 77,
   "id": "22765d2a",
   "metadata": {},
   "outputs": [
    {
     "data": {
      "text/plain": [
       "KstestResult(statistic=0.09558216503939088, pvalue=0.018675172465838316)"
      ]
     },
     "execution_count": 77,
     "metadata": {},
     "output_type": "execute_result"
    }
   ],
   "source": [
    "stats.kstest(l_returns['CEVA'], \"norm\", parameters)"
   ]
  },
  {
   "cell_type": "code",
   "execution_count": 94,
   "id": "ff47e871",
   "metadata": {},
   "outputs": [
    {
     "data": {
      "image/png": "[encoded data removed]",
      "text/plain": [
       "<Figure size 432x288 with 1 Axes>"
      ]
     },
     "metadata": {
      "needs_background": "light"
     },
     "output_type": "display_data"
    }
   ],
   "source": [
    "domain = np.linspace(np.min(l_returns['CEVA']), np.max(l_returns['CEVA']))\n",
    "plt.plot(domain, norm.pdf(domain, m, std))\n",
    "plt.hist(l_returns[\"CEVA\"], alpha = .5, density = True)\n",
    "plt.show()"
   ]
  },
  {
   "cell_type": "markdown",
   "id": "cc3abb89",
   "metadata": {},
   "source": [
    "## 2.3 Optimization"
   ]
  },
  {
   "cell_type": "markdown",
   "id": "bbec47f4",
   "metadata": {},
   "source": [
    "One of the most imporant topic that you should be aware is the is about optimization. In fact, minimize, maximize or finding roots of a function an important task that could be easily handle in Python. Let's imagine that we have a function in this format (here is the documentation about optimization in Python (https://docs.scipy.org/doc/scipy/reference/tutorial/optimize.html#nelder-mead-simplex-algorithm-method-nelder-mead) :"
   ]
  },
  {
   "cell_type": "markdown",
   "id": "1d256c07",
   "metadata": {},
   "source": [
    "$$ f(x) = \\sum_{i = 1}^{N-1} 100 (x_{i+1} - x_i^2)^{2} + (1-x_i)^2 $$"
   ]
  },
  {
   "cell_type": "code",
   "execution_count": 95,
   "id": "a5711d94",
   "metadata": {},
   "outputs": [],
   "source": [
    "import numpy as np\n",
    "from scipy.optimize import minimize"
   ]
  },
  {
   "cell_type": "code",
   "execution_count": 97,
   "id": "88340023",
   "metadata": {},
   "outputs": [],
   "source": [
    "def rosen(x):\n",
    "    \"\"\"The Rosenbrock function\"\"\"\n",
    "    return sum(100.0*(x[1:]-x[:-1]**2.0)**2.0 + (1-x[:-1])**2.0)"
   ]
  },
  {
   "cell_type": "code",
   "execution_count": 128,
   "id": "fade864b",
   "metadata": {},
   "outputs": [
    {
     "name": "stdout",
     "output_type": "stream",
     "text": [
      "Optimization terminated successfully.\n",
      "         Current function value: 0.000000\n",
      "         Iterations: 150\n",
      "         Function evaluations: 270\n"
     ]
    }
   ],
   "source": [
    "x0 = np.array([1.3, 0.7, 0.8])\n",
    "res = minimize(rosen, x0, method='nelder-mead',\n",
    "               options={'xatol': 1e-8, 'disp': True})"
   ]
  },
  {
   "cell_type": "code",
   "execution_count": 129,
   "id": "96167f1b",
   "metadata": {},
   "outputs": [
    {
     "name": "stdout",
     "output_type": "stream",
     "text": [
      "[1. 1. 1.]\n"
     ]
    }
   ],
   "source": [
    "print(res.x)"
   ]
  },
  {
   "cell_type": "code",
   "execution_count": 131,
   "id": "46a80e24",
   "metadata": {},
   "outputs": [
    {
     "data": {
      "text/plain": [
       "0.0"
      ]
     },
     "execution_count": 131,
     "metadata": {},
     "output_type": "execute_result"
    }
   ],
   "source": [
    "rosen(np.array([1, 1, 1]))"
   ]
  },
  {
   "cell_type": "markdown",
   "id": "ba9e6069",
   "metadata": {},
   "source": [
    "# Exercice ! "
   ]
  },
  {
   "cell_type": "markdown",
   "id": "072c1db9",
   "metadata": {},
   "source": [
    "## 1) Data analysis\n",
    "\n",
    "For this exercice, I'm excepting from you to (at least) reproduce the data analysis that we have done together (2.1 and 2.2). \n",
    "**BUT**, I want one function that do all the analysis and return all the result.\n",
    "In other word, I want a function in which you put the stocks label (\"AAPL\") and that will the analysis on this one. If I put multiple label, I want the analysis of the portfolio. Graph can be done outside the function (or as an output of the function, as you want).\n",
    "\n",
    "If you have some idea to increase the analysis, feel free to implement it :)\n"
   ]
  },
  {
   "cell_type": "markdown",
   "id": "bd044730",
   "metadata": {},
   "source": [
    "## 2) Optimization"
   ]
  },
  {
   "cell_type": "markdown",
   "id": "8c57beab",
   "metadata": {},
   "source": [
    "Here a simple function :\n",
    "$$ f(x,y) = (1.5 - x + xy)^2 + (2.25 - x + xy^2)^2 + (2.625 - x + xy^3)^2 $$\n",
    "It's a 3 dimension function that we called \"Beale function\". I want you to calculate the global minimum of this function.\n",
    "To help you a bit : the domain of reseach is $-4.5 \\leq x,y \\leq 4.5$. \n",
    "And the global minimum that you are looking is $x = 3 $ and $y = 0.5$ which gives $f(3, 0.5) = 0. \n",
    "Please verify this solution  "
   ]
  }
 ],
 "metadata": {
  "kernelspec": {
   "display_name": "Python 3",
   "language": "python",
   "name": "python3"
  },
  "language_info": {
   "codemirror_mode": {
    "name": "ipython",
    "version": 3
   },
   "file_extension": ".py",
   "mimetype": "text/x-python",
   "name": "python",
   "nbconvert_exporter": "python",
   "pygments_lexer": "ipython3",
   "version": "3.8.8"
  }
 },
 "nbformat": 4,
 "nbformat_minor": 5
}
